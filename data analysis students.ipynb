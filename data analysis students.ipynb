{
 "cells": [
  {
   "attachments": {},
   "cell_type": "markdown",
   "metadata": {},
   "source": [
    "**DATA ANALYSIS PROJECT: UDACITY'S STUDENTS ENGAGEMENT**"
   ]
  },
  {
   "cell_type": "code",
   "execution_count": 1,
   "metadata": {},
   "outputs": [],
   "source": [
    "import os\n",
    "from datetime import datetime as dt\n",
    "import json\n",
    "import unicodecsv\n",
    "import seaborn as sns \n",
    "import matplotlib.pyplot as plt"
   ]
  },
  {
   "attachments": {},
   "cell_type": "markdown",
   "metadata": {},
   "source": [
    "**PREVIOUS ETL PROCESS**\n",
    "\n",
    "reading csv files"
   ]
  },
  {
   "cell_type": "code",
   "execution_count": 2,
   "metadata": {},
   "outputs": [],
   "source": [
    "with open('enrollments.csv', 'rb') as f:\n",
    "    reader = unicodecsv.DictReader(f)\n",
    "    enrollments = list(reader)"
   ]
  },
  {
   "cell_type": "code",
   "execution_count": 3,
   "metadata": {},
   "outputs": [
    {
     "name": "stdout",
     "output_type": "stream",
     "text": [
      "1640\n"
     ]
    }
   ],
   "source": [
    "enrollment_num_rows = len(enrollments)\n",
    "print(enrollment_num_rows)"
   ]
  },
  {
   "cell_type": "code",
   "execution_count": 4,
   "metadata": {},
   "outputs": [
    {
     "data": {
      "text/plain": [
       "{'creation_date': '2015-01-14',\n",
       " 'completion_date': '2015-01-16',\n",
       " 'assigned_rating': 'UNGRADED',\n",
       " 'account_key': '256',\n",
       " 'lesson_key': '3176718735',\n",
       " 'processing_state': 'EVALUATED'}"
      ]
     },
     "execution_count": 4,
     "metadata": {},
     "output_type": "execute_result"
    }
   ],
   "source": [
    "with open('project_submissions.csv', 'rb') as f:\n",
    "    reader = unicodecsv.DictReader(f)\n",
    "    project_submissions = list(reader)\n",
    "\n",
    "project_submissions[0]"
   ]
  },
  {
   "cell_type": "code",
   "execution_count": 5,
   "metadata": {},
   "outputs": [
    {
     "data": {
      "text/plain": [
       "{'acct': '0',\n",
       " 'utc_date': '2015-01-09',\n",
       " 'num_courses_visited': '1.0',\n",
       " 'total_minutes_visited': '11.6793745',\n",
       " 'lessons_completed': '0.0',\n",
       " 'projects_completed': '0.0'}"
      ]
     },
     "execution_count": 5,
     "metadata": {},
     "output_type": "execute_result"
    }
   ],
   "source": [
    "with open('daily_engagement.csv', 'rb') as f:\n",
    "    reader = unicodecsv.DictReader(f)\n",
    "    daily_engagement = list(reader)\n",
    "\n",
    "daily_engagement[0]"
   ]
  },
  {
   "cell_type": "code",
   "execution_count": 6,
   "metadata": {},
   "outputs": [
    {
     "data": {
      "text/plain": [
       "{'utc_date': '2014-11-05',\n",
       " 'acct': '448',\n",
       " 'registration_date': '2014-08-05',\n",
       " 'subscription_start': '2014-11-05',\n",
       " 'course_key': 'ud359-nd',\n",
       " 'sibling_key': 'ud359',\n",
       " 'course_title': 'Intro to Data Science',\n",
       " 'has_visited': '0.0',\n",
       " 'total_minutes_visited': '0.0',\n",
       " 'lessons_completed': '0.0',\n",
       " 'projects_completed': '0.0',\n",
       " 'account_key': '2257038596'}"
      ]
     },
     "execution_count": 6,
     "metadata": {},
     "output_type": "execute_result"
    }
   ],
   "source": [
    "with open('daily_engagement_full.csv', 'rb') as f:\n",
    "    reader = unicodecsv.DictReader(f)\n",
    "    daily_engagement_full = list(reader)\n",
    "\n",
    "daily_engagement_full[0]"
   ]
  },
  {
   "attachments": {},
   "cell_type": "markdown",
   "metadata": {},
   "source": [
    "**DATA WRANGLING PHASE**\n",
    "\n",
    "as we can see, all the data was read as string. The first step is fixing data types"
   ]
  },
  {
   "cell_type": "code",
   "execution_count": 7,
   "metadata": {},
   "outputs": [],
   "source": [
    "#function to convert a date stored as string to a datetime object\n",
    "\n",
    "def parse_date(date):\n",
    "    if date == '':\n",
    "        return None\n",
    "    else:\n",
    "        return dt.strptime(date, '%Y-%m-%d')"
   ]
  },
  {
   "cell_type": "code",
   "execution_count": 8,
   "metadata": {},
   "outputs": [],
   "source": [
    "# function to take null values stored as integer and conver it into int or none\n",
    "\n",
    "def parse_maybe_int(i):\n",
    "    if i == '':\n",
    "        return None\n",
    "    else:\n",
    "        return int(i)"
   ]
  },
  {
   "cell_type": "code",
   "execution_count": 9,
   "metadata": {},
   "outputs": [],
   "source": [
    "#applying the functions to the files (dictionaries)\n",
    "\n",
    "#converting the string enrollments into a list of dictionaries\n",
    "\n",
    "#enrollments_list = json.loads(enrollments)\n",
    "\n",
    "for enrollment in enrollments:\n",
    "    enrollment['cancel_date'] = parse_date(enrollment['cancel_date'])\n",
    "    enrollment['days_to_cancel'] = parse_maybe_int(enrollment['days_to_cancel'])\n",
    "    enrollment['is_canceled'] = enrollment['is_canceled'] == 'True'\n",
    "    enrollment['is_udacity'] = enrollment['is_udacity'] == 'True'\n",
    "    enrollment['join_date'] = parse_date(enrollment['join_date'])    "
   ]
  },
  {
   "cell_type": "code",
   "execution_count": 10,
   "metadata": {},
   "outputs": [
    {
     "data": {
      "text/plain": [
       "{'account_key': '448',\n",
       " 'status': 'canceled',\n",
       " 'join_date': datetime.datetime(2014, 11, 10, 0, 0),\n",
       " 'cancel_date': datetime.datetime(2015, 1, 14, 0, 0),\n",
       " 'days_to_cancel': 65,\n",
       " 'is_udacity': True,\n",
       " 'is_canceled': True}"
      ]
     },
     "execution_count": 10,
     "metadata": {},
     "output_type": "execute_result"
    }
   ],
   "source": [
    "enrollments[0]"
   ]
  },
  {
   "attachments": {},
   "cell_type": "markdown",
   "metadata": {},
   "source": [
    "so, in the transformation of enrollments dataset the account key as integer type, change days to cancel as integer, join date and cancel date as datetime "
   ]
  },
  {
   "cell_type": "code",
   "execution_count": 11,
   "metadata": {},
   "outputs": [
    {
     "data": {
      "text/plain": [
       "{'acct': '0',\n",
       " 'utc_date': datetime.datetime(2015, 1, 9, 0, 0),\n",
       " 'num_courses_visited': 1,\n",
       " 'total_minutes_visited': 11.6793745,\n",
       " 'lessons_completed': 0,\n",
       " 'projects_completed': 0}"
      ]
     },
     "execution_count": 11,
     "metadata": {},
     "output_type": "execute_result"
    }
   ],
   "source": [
    "for engagement in daily_engagement:\n",
    "    engagement['lessons_completed'] = int(float(engagement['lessons_completed']))\n",
    "    engagement['num_courses_visited'] = int(float(engagement['num_courses_visited']))\n",
    "    engagement['projects_completed'] = int(float(engagement['projects_completed']))\n",
    "    engagement['total_minutes_visited'] = float(engagement['total_minutes_visited'])\n",
    "    engagement['utc_date'] = parse_date(engagement['utc_date'])\n",
    "\n",
    "daily_engagement[0]"
   ]
  },
  {
   "attachments": {},
   "cell_type": "markdown",
   "metadata": {},
   "source": [
    "at the transformation of daily engagement, it was converted to integer the columns lessons visited, num courses visited, projects, converted to float the column total minutes visited and converted to date with the previous function the utc date"
   ]
  },
  {
   "cell_type": "code",
   "execution_count": 12,
   "metadata": {},
   "outputs": [
    {
     "data": {
      "text/plain": [
       "{'creation_date': datetime.datetime(2015, 1, 14, 0, 0),\n",
       " 'completion_date': datetime.datetime(2015, 1, 16, 0, 0),\n",
       " 'assigned_rating': 'UNGRADED',\n",
       " 'account_key': '256',\n",
       " 'lesson_key': '3176718735',\n",
       " 'processing_state': 'EVALUATED'}"
      ]
     },
     "execution_count": 12,
     "metadata": {},
     "output_type": "execute_result"
    }
   ],
   "source": [
    "for submission in project_submissions:\n",
    "    submission['completion_date'] = parse_date(submission['completion_date'])\n",
    "    submission['creation_date'] = parse_date(submission['creation_date'])\n",
    "\n",
    "project_submissions[0]"
   ]
  },
  {
   "attachments": {},
   "cell_type": "markdown",
   "metadata": {},
   "source": [
    "in project_submissions it was only necessary to transform date columns, creation date and competition_date, to datetipe"
   ]
  },
  {
   "attachments": {},
   "cell_type": "markdown",
   "metadata": {},
   "source": [
    "**QUESTION PHASE**"
   ]
  },
  {
   "attachments": {},
   "cell_type": "markdown",
   "metadata": {},
   "source": [
    "How long it usually take to students before the submit of projects?\n",
    "\n",
    "How do students who pass their projects differ from those who don't?\n",
    "\n",
    "Students who concluse their projects were assigned in other? how many projects?"
   ]
  },
  {
   "attachments": {},
   "cell_type": "markdown",
   "metadata": {},
   "source": [
    "**INVESTIGATING THE DATA**"
   ]
  },
  {
   "cell_type": "code",
   "execution_count": 13,
   "metadata": {},
   "outputs": [
    {
     "name": "stdout",
     "output_type": "stream",
     "text": [
      "1640\n"
     ]
    }
   ],
   "source": [
    "enrollment_num_rows = len(enrollments)\n",
    "print(enrollment_num_rows)"
   ]
  },
  {
   "cell_type": "code",
   "execution_count": 14,
   "metadata": {},
   "outputs": [
    {
     "name": "stdout",
     "output_type": "stream",
     "text": [
      "1302\n"
     ]
    }
   ],
   "source": [
    "enrollment_set = {enrollment['account_key'] for enrollment in enrollments}\n",
    "enrollment_num_unique_students = len(enrollment_set)\n",
    "print (enrollment_num_unique_students)"
   ]
  },
  {
   "cell_type": "code",
   "execution_count": 15,
   "metadata": {},
   "outputs": [
    {
     "name": "stdout",
     "output_type": "stream",
     "text": [
      "136240\n"
     ]
    }
   ],
   "source": [
    "engagement_num_rows = len(daily_engagement)\n",
    "print(engagement_num_rows)"
   ]
  },
  {
   "cell_type": "code",
   "execution_count": 16,
   "metadata": {},
   "outputs": [
    {
     "name": "stdout",
     "output_type": "stream",
     "text": [
      "1237\n"
     ]
    }
   ],
   "source": [
    "engagement_set = {engagement['acct'] for engagement in daily_engagement}\n",
    "engagement_num_unique_students = len(engagement_set)\n",
    "print(engagement_num_unique_students)"
   ]
  },
  {
   "cell_type": "code",
   "execution_count": 17,
   "metadata": {},
   "outputs": [
    {
     "name": "stdout",
     "output_type": "stream",
     "text": [
      "3642\n"
     ]
    }
   ],
   "source": [
    "submissions_num_rows = len(project_submissions)\n",
    "print(submissions_num_rows)"
   ]
  },
  {
   "cell_type": "code",
   "execution_count": 18,
   "metadata": {},
   "outputs": [
    {
     "name": "stdout",
     "output_type": "stream",
     "text": [
      "743\n"
     ]
    }
   ],
   "source": [
    "submission_set = {submission['account_key'] for submission in project_submissions}\n",
    "submission_num_unique_students = len(submission_set)\n",
    "print(submission_num_unique_students)\n"
   ]
  },
  {
   "attachments": {},
   "cell_type": "markdown",
   "metadata": {},
   "source": [
    "There are some problems with these numbers.\n",
    "\n",
    "There are another problem but easy to fix, the account key and acct means the same so I'll use the same name for both columns"
   ]
  },
  {
   "cell_type": "code",
   "execution_count": 19,
   "metadata": {},
   "outputs": [],
   "source": [
    "for engagement_record in daily_engagement:\n",
    "    engagement_record['account_key'] = engagement_record['acct']\n",
    "    del[engagement_record['acct']]"
   ]
  },
  {
   "cell_type": "code",
   "execution_count": 20,
   "metadata": {},
   "outputs": [
    {
     "data": {
      "text/plain": [
       "'0'"
      ]
     },
     "execution_count": 20,
     "metadata": {},
     "output_type": "execute_result"
    }
   ],
   "source": [
    "daily_engagement[0]['account_key']"
   ]
  },
  {
   "attachments": {},
   "cell_type": "markdown",
   "metadata": {},
   "source": [
    "There are more unique students in enrollment (1302) than engagement table (1237).\n",
    "\n",
    "The output reflects a problem with the real engagement of Udacity courses or a problem with data threatment so far?\n",
    "\n",
    "Let's find any enrollment record with no correspondency engagement data"
   ]
  },
  {
   "cell_type": "code",
   "execution_count": 21,
   "metadata": {},
   "outputs": [
    {
     "data": {
      "text/plain": [
       "1302"
      ]
     },
     "execution_count": 21,
     "metadata": {},
     "output_type": "execute_result"
    }
   ],
   "source": [
    "unique_enrolled = set()\n",
    "for enrollment in enrollments:\n",
    "    unique_enrolled.add(enrollment['account_key'])\n",
    "len(unique_enrolled)"
   ]
  },
  {
   "cell_type": "code",
   "execution_count": 22,
   "metadata": {},
   "outputs": [
    {
     "data": {
      "text/plain": [
       "1237"
      ]
     },
     "execution_count": 22,
     "metadata": {},
     "output_type": "execute_result"
    }
   ],
   "source": [
    "unique_engagement = set()\n",
    "for engagement_record in daily_engagement:\n",
    "    unique_engagement.add(engagement_record['account_key'])\n",
    "len(unique_engagement)"
   ]
  },
  {
   "cell_type": "code",
   "execution_count": 23,
   "metadata": {},
   "outputs": [
    {
     "name": "stdout",
     "output_type": "stream",
     "text": [
      "{'account_key': '1219', 'status': 'canceled', 'join_date': datetime.datetime(2014, 11, 12, 0, 0), 'cancel_date': datetime.datetime(2014, 11, 12, 0, 0), 'days_to_cancel': 0, 'is_udacity': False, 'is_canceled': True}\n"
     ]
    }
   ],
   "source": [
    "for enrollment in enrollments:\n",
    "    student = enrollment['account_key']\n",
    "    if student not in unique_engagement:\n",
    "        print(enrollment)\n",
    "        break"
   ]
  },
  {
   "attachments": {},
   "cell_type": "markdown",
   "metadata": {},
   "source": [
    "it seems the records that are missing in engagement table is explained because there are some \"trial\" period when the student sign up for a course but cancel it at the same day, so it won't be record as engagement."
   ]
  },
  {
   "cell_type": "code",
   "execution_count": 24,
   "metadata": {},
   "outputs": [
    {
     "name": "stdout",
     "output_type": "stream",
     "text": [
      "{'account_key': '686', 'status': 'current', 'join_date': datetime.datetime(2015, 8, 23, 0, 0), 'cancel_date': None, 'days_to_cancel': None, 'is_udacity': False, 'is_canceled': False}\n"
     ]
    }
   ],
   "source": [
    "total = 0 \n",
    "\n",
    "for enrollment in enrollments:\n",
    "    student = enrollment['account_key']\n",
    "    if student not in unique_engagement and enrollment['join_date'] != enrollment['cancel_date']:\n",
    "        total += 1\n",
    "print(enrollment)"
   ]
  },
  {
   "cell_type": "markdown",
   "metadata": {},
   "source": [
    "function to remove test udacity accounts "
   ]
  },
  {
   "cell_type": "code",
   "execution_count": 25,
   "metadata": {},
   "outputs": [
    {
     "data": {
      "text/plain": [
       "6"
      ]
     },
     "execution_count": 25,
     "metadata": {},
     "output_type": "execute_result"
    }
   ],
   "source": [
    "udacity_test_accounts = set ()\n",
    "for e in enrollments:\n",
    "    if e['is_udacity']:\n",
    "        udacity_test_accounts.add(e['account_key'])\n",
    "len(udacity_test_accounts)"
   ]
  },
  {
   "cell_type": "code",
   "execution_count": 26,
   "metadata": {},
   "outputs": [],
   "source": [
    "def remove_tests_accounts(data):\n",
    "    non_udacity = []\n",
    "    for data_point in data:\n",
    "        if data_point['account_key'] not in udacity_test_accounts:\n",
    "            non_udacity.append(data_point)\n",
    "    return non_udacity"
   ]
  },
  {
   "cell_type": "code",
   "execution_count": 27,
   "metadata": {},
   "outputs": [
    {
     "name": "stdout",
     "output_type": "stream",
     "text": [
      "1622\n",
      "136240\n",
      "3634\n"
     ]
    }
   ],
   "source": [
    "non_udacity_enrollments = remove_tests_accounts(enrollments)\n",
    "print(len(non_udacity_enrollments))\n",
    "non_udacity_engagement = remove_tests_accounts(daily_engagement)\n",
    "print(len(daily_engagement))\n",
    "non_udacity_submissions = remove_tests_accounts(project_submissions)\n",
    "print(len(non_udacity_submissions))"
   ]
  },
  {
   "cell_type": "markdown",
   "metadata": {},
   "source": [
    "Moving on from the wrangling phase to the exploration phase. \n",
    "Still on the question **\"how do numbers in the daily engagement table differ for students who pass the first project?\"**\n",
    "\n",
    "The engagement data provides content about students that submits projects in different lenghts of time, or engagement in courses that are not related to the first project.\n",
    "\n",
    "Due to, I'll restrict the analysis for the group of first, excluding the ones who cancelled within a week the projects.\n"
   ]
  },
  {
   "cell_type": "code",
   "execution_count": 28,
   "metadata": {},
   "outputs": [
    {
     "data": {
      "text/plain": [
       "995"
      ]
     },
     "execution_count": 28,
     "metadata": {},
     "output_type": "execute_result"
    }
   ],
   "source": [
    "paid_students = {}\n",
    "for e in non_udacity_enrollments:\n",
    "    if not e['is_canceled'] or e['days_to_cancel'] > 7:\n",
    "        account_key = e['account_key']\n",
    "        enrollment_date = e['join_date']\n",
    "        \n",
    "        if account_key not in paid_students or enrollment_date > paid_students[account_key]:\n",
    "            paid_students[account_key] = enrollment_date\n",
    "\n",
    "len(paid_students)"
   ]
  },
  {
   "cell_type": "code",
   "execution_count": 29,
   "metadata": {},
   "outputs": [],
   "source": [
    "#print(paid_students)"
   ]
  },
  {
   "cell_type": "markdown",
   "metadata": {},
   "source": [
    "the next step is getting data from the paid students in the first week"
   ]
  },
  {
   "cell_type": "code",
   "execution_count": 30,
   "metadata": {},
   "outputs": [],
   "source": [
    "def within_one_week(join_date, engagement_date):\n",
    "    time_delta = engagement_date - join_date\n",
    "    return time_delta.days < 7 and time_delta.days >= 0"
   ]
  },
  {
   "cell_type": "code",
   "execution_count": 31,
   "metadata": {},
   "outputs": [
    {
     "name": "stdout",
     "output_type": "stream",
     "text": [
      "Paid enrollments:\n",
      "1293\n",
      "Paid engagements:\n",
      "134549\n",
      "Paid submissions:\n",
      "3618\n",
      "Paid engagements in first week:\n",
      "6919\n"
     ]
    }
   ],
   "source": [
    "def remove_free_trial_cancels(data):\n",
    "    new_data = []\n",
    "    for data_point in data:\n",
    "        if data_point['account_key'] in paid_students:\n",
    "            new_data.append(data_point)\n",
    "    return new_data\n",
    "\n",
    "paid_enrollments = remove_free_trial_cancels(non_udacity_enrollments)\n",
    "paid_engagement = remove_free_trial_cancels(non_udacity_engagement)\n",
    "paid_submissions = remove_free_trial_cancels(non_udacity_submissions)\n",
    "\n",
    "print('Paid enrollments:')\n",
    "print(len(paid_enrollments))\n",
    "print('Paid engagements:')\n",
    "print(len(paid_engagement))\n",
    "print('Paid submissions:')\n",
    "print(len(paid_submissions))\n",
    "\n",
    "#flag to identify students who visited each course\n",
    "for engagement_record in paid_engagement:\n",
    "    if engagement_record['num_courses_visited'] > 0:\n",
    "        engagement_record['has_visited'] = 1\n",
    "    else:\n",
    "        engagement_record['has_visited'] = 0\n",
    "\n",
    "paid_engagement_in_first_week = []\n",
    "for engagement_record in paid_engagement:\n",
    "    account_key = engagement_record['account_key']\n",
    "    join_date = paid_students[account_key]\n",
    "    engagement_record_date = engagement_record['utc_date']\n",
    "\n",
    "    if within_one_week(join_date, engagement_record_date):\n",
    "        paid_engagement_in_first_week.append(engagement_record)\n",
    "\n",
    "print('Paid engagements in first week:')\n",
    "print(len(paid_engagement_in_first_week))"
   ]
  },
  {
   "cell_type": "markdown",
   "metadata": {},
   "source": [
    "**EXPLORE PHASE: Exploring student engagement**"
   ]
  },
  {
   "cell_type": "code",
   "execution_count": 32,
   "metadata": {},
   "outputs": [],
   "source": [
    "from collections import defaultdict\n",
    "\n",
    "# Creates a dictionary of engagement grouped by student\n",
    "\n",
    "engagement_by_account = defaultdict(list)\n",
    "for engagement_record in paid_engagement_in_first_week:\n",
    "    account_key = engagement_record['account_key']\n",
    "    engagement_by_account[account_key].append(engagement_record)"
   ]
  },
  {
   "cell_type": "code",
   "execution_count": 33,
   "metadata": {},
   "outputs": [],
   "source": [
    "# Creates a dictionary with the total minutes each student spent in the classroom during the first week\n",
    "\n",
    "total_minutes_by_account = {}\n",
    "for account_key, engagement_for_student in engagement_by_account.items():\n",
    "    total_minutes = 0\n",
    "    for engagement_record in engagement_for_student:\n",
    "        total_minutes += engagement_record['total_minutes_visited']\n",
    "    total_minutes_by_account[account_key] = total_minutes"
   ]
  },
  {
   "cell_type": "code",
   "execution_count": 34,
   "metadata": {},
   "outputs": [
    {
     "name": "stdout",
     "output_type": "stream",
     "text": [
      "mean 306.70832675342825\n",
      "standard deviation 412.99693340852957\n",
      "max 3564.7332644989997\n",
      "min 0.0\n"
     ]
    }
   ],
   "source": [
    "import numpy as np\n",
    "\n",
    "total_minutes = np.array(list(total_minutes_by_account.values())) #convert the values of dict in a list\n",
    "\n",
    "print(f'mean {np.mean(total_minutes)}')\n",
    "print(f'standard deviation {np.std(total_minutes)}')\n",
    "print(f'max {np.max(total_minutes)}')\n",
    "print(f'min {np.min(total_minutes)}')"
   ]
  },
  {
   "cell_type": "code",
   "execution_count": 35,
   "metadata": {},
   "outputs": [],
   "source": [
    "#for k,v in engagement_by_account.items():\n",
    "#    print(k,v)"
   ]
  },
  {
   "cell_type": "code",
   "execution_count": 36,
   "metadata": {},
   "outputs": [],
   "source": [
    "lessons_completed_first_week = {}\n",
    "for account_key,engagement_for_student in engagement_by_account.items():\n",
    "    total_lessons = 0\n",
    "    for engagement_record in engagement_for_student:\n",
    "        total_lessons += engagement_record['lessons_completed']\n",
    "    lessons_completed_first_week[account_key] = total_lessons\n"
   ]
  },
  {
   "cell_type": "code",
   "execution_count": 37,
   "metadata": {},
   "outputs": [
    {
     "name": "stdout",
     "output_type": "stream",
     "text": [
      "mean 1.636180904522613\n",
      "standard deviation 3.002561299829423\n",
      "max 36\n",
      "min 0\n"
     ]
    }
   ],
   "source": [
    "total_lessons_completed = np.array(list(lessons_completed_first_week.values())) #convert the values of dict in a list\n",
    "\n",
    "print(f'mean {np.mean(total_lessons_completed)}')\n",
    "print(f'standard deviation {np.std(total_lessons_completed)}')\n",
    "print(f'max {np.max(total_lessons_completed)}')\n",
    "print(f'min {np.min(total_lessons_completed)}')"
   ]
  },
  {
   "cell_type": "code",
   "execution_count": 38,
   "metadata": {},
   "outputs": [
    {
     "name": "stdout",
     "output_type": "stream",
     "text": [
      "mean 2.8673366834170855\n",
      "standart deviation 2.2551980029196814\n",
      "max 7\n",
      "min 0\n"
     ]
    }
   ],
   "source": [
    "def group_data(data, key_name):\n",
    "    grouped_data = defaultdict(list)\n",
    "    for data_point in data:\n",
    "        key = data_point[key_name]\n",
    "        grouped_data[key].append(data_point)\n",
    "    return grouped_data\n",
    "\n",
    "def sum_grouped_items(grouped_data, field_name):\n",
    "    summed_data = {}\n",
    "    for key, data_points in grouped_data.items():\n",
    "        total = 0\n",
    "        for data_point in data_points:\n",
    "            total += data_point[field_name]\n",
    "        summed_data[key] = total\n",
    "    return summed_data\n",
    "\n",
    "days_visited_by_account = sum_grouped_items(engagement_by_account,'has_visited')\n",
    "\n",
    "\n",
    "num_days_visited = np.array(list(days_visited_by_account.values()))\n",
    "print(f'mean {np.mean(num_days_visited)}')\n",
    "print(f'standart deviation {np.std(num_days_visited)}')\n",
    "print(f'max {np.max(num_days_visited)}')\n",
    "print(f'min {np.min(num_days_visited)}')\n",
    "\n",
    "\n"
   ]
  },
  {
   "cell_type": "markdown",
   "metadata": {},
   "source": [
    "Above all the summary statistics, we notice the students spends about 5 hours on classes (306 minutes), they complete at least 1 lesson and visit the platform for 2 days also in avarage."
   ]
  },
  {
   "cell_type": "markdown",
   "metadata": {},
   "source": [
    "This summary doesn't explain very much about the students engagement, so let's move on next step of analysis.\n",
    "\n",
    "Comparing the students in two groups: the ones who eventually pass the project of course and those who don't."
   ]
  },
  {
   "cell_type": "code",
   "execution_count": 39,
   "metadata": {},
   "outputs": [
    {
     "data": {
      "text/plain": [
       "647"
      ]
     },
     "execution_count": 39,
     "metadata": {},
     "output_type": "execute_result"
    }
   ],
   "source": [
    "#subway project lesson keys \n",
    "subway_project_lesson_keys = ['746169184','3176718735']\n",
    "\n",
    "# students who eventually pass the subway project\n",
    "\n",
    "pass_project = set()\n",
    "for submission in paid_submissions:\n",
    "    project = submission['lesson_key']\n",
    "    rating = submission['assigned_rating']\n",
    "\n",
    "    if project in subway_project_lesson_keys and (rating == 'PASSED' or rating == 'DISTINCTION'):\n",
    "        pass_project.add(submission['account_key'])\n",
    "\n",
    "len(pass_project)"
   ]
  },
  {
   "cell_type": "code",
   "execution_count": 40,
   "metadata": {},
   "outputs": [
    {
     "name": "stdout",
     "output_type": "stream",
     "text": [
      "2392\n",
      "4527\n"
     ]
    }
   ],
   "source": [
    "#students who don't pass the project\n",
    "\n",
    "non_pass_project = []\n",
    "passing_project = []\n",
    "\n",
    "for engagement in paid_engagement_in_first_week:\n",
    "    if engagement['account_key'] in pass_project:\n",
    "        passing_project.append(engagement)\n",
    "    else:\n",
    "        non_pass_project.append(engagement)\n",
    "\n",
    "\n",
    "print(len(non_pass_project))\n",
    "print(len(passing_project))"
   ]
  },
  {
   "cell_type": "markdown",
   "metadata": {},
   "source": [
    "Focusing on the three metrics before\n",
    "- minutes spent\n",
    "- lessons completed\n",
    "- days visited"
   ]
  },
  {
   "cell_type": "code",
   "execution_count": 41,
   "metadata": {},
   "outputs": [],
   "source": [
    "def summary_stat(data):\n",
    "    print(f'mean {np.mean(data)}')\n",
    "    print(f'standart deviation {np.std(data)}')\n",
    "    print(f'max {np.max(data)}')\n",
    "    print(f'min {np.min(data)}')"
   ]
  },
  {
   "cell_type": "code",
   "execution_count": 42,
   "metadata": {},
   "outputs": [
    {
     "name": "stdout",
     "output_type": "stream",
     "text": [
      "Mean: 0.006030150753768844 \n",
      "Standard deviation: 0.08946417320308696 \n",
      "Minimum: 0 \n",
      "Maximum: 2\n"
     ]
    }
   ],
   "source": [
    "def dict_converter(input_list):\n",
    "    from collections import defaultdict\n",
    "    passing_engagement_dict = defaultdict(list) \n",
    "    for item in input_list:\n",
    "        account_key = item['account_key']\n",
    "        passing_engagement_dict[account_key].append(item)\n",
    "    return passing_engagement_dict\n",
    "\n",
    "\n",
    "def detail(engagement_by_account: object, interested_variable: object) -> object:\n",
    "    import numpy as np\n",
    "    total_something = {}\n",
    "    for account_key, engagement_for_student in engagement_by_account.items():\n",
    "        total = 0\n",
    "        for engagement_record in engagement_for_student:\n",
    "            total += engagement_record[interested_variable]\n",
    "        total_something[account_key] = total\n",
    "    total_something = list(total_something.values())\n",
    "    return print('Mean:', np.mean(total_something), '\\n' 'Standard deviation:', \n",
    "                 np.std(total_something), '\\n' 'Minimum:', np.min(total_something),\n",
    "                 '\\n' 'Maximum:', np.max(total_something)) \n",
    "detail(engagement_by_account, 'projects_completed')"
   ]
  },
  {
   "cell_type": "code",
   "execution_count": 43,
   "metadata": {},
   "outputs": [
    {
     "name": "stdout",
     "output_type": "stream",
     "text": [
      "Total minutes visited\n",
      "Mean: 394.58604648350865 \n",
      "Standard deviation: 448.4995193265521 \n",
      "Minimum: 0.0 \n",
      "Maximum: 3564.7332644989997\n",
      "Mean: 143.32647426675584 \n",
      "Standard deviation: 269.5386190114951 \n",
      "Minimum: 0.0 \n",
      "Maximum: 1768.5227493319999\n",
      "\n",
      "Lessons completed\n",
      "Mean: 2.052550231839258 \n",
      "Standard deviation: 3.1422270555779344 \n",
      "Minimum: 0 \n",
      "Maximum: 36\n",
      "Mean: 0.8620689655172413 \n",
      "Standard deviation: 2.5491599418312028 \n",
      "Minimum: 0 \n",
      "Maximum: 27\n",
      "\n",
      "Days visited\n",
      "Mean: 3.384853168469861 \n",
      "Standard deviation: 2.2588214709184595 \n",
      "Minimum: 0 \n",
      "Maximum: 7\n",
      "Mean: 1.9051724137931034 \n",
      "Standard deviation: 1.9057314413619046 \n",
      "Minimum: 0 \n",
      "Maximum: 7\n"
     ]
    }
   ],
   "source": [
    "print('Total minutes visited')\n",
    "detail(dict_converter(passing_project), 'total_minutes_visited')\n",
    "detail(dict_converter(non_pass_project), 'total_minutes_visited')\n",
    "print('\\n' 'Lessons completed')\n",
    "detail(dict_converter(passing_project), 'lessons_completed')\n",
    "detail(dict_converter(non_pass_project), 'lessons_completed')\n",
    "print('\\n' 'Days visited')\n",
    "detail(dict_converter(passing_project), 'has_visited')\n",
    "detail(dict_converter(non_pass_project), 'has_visited')"
   ]
  },
  {
   "cell_type": "markdown",
   "metadata": {},
   "source": [
    "We can highlight here that all the metrics are higher in the group of students who passed the lessons:\n",
    "They visited the plataform in average 6 hours and the other group 2 hours.\n",
    "It's very different!\n",
    "\n",
    "The pass group also completed in average 2 lessons and visited the classroom for 3 days while the non pass group visited in an average 1 day and do not complete at least 1 lesson."
   ]
  },
  {
   "cell_type": "code",
   "execution_count": 44,
   "metadata": {},
   "outputs": [
    {
     "data": {
      "text/plain": [
       "(array([97., 90., 56.,  0., 41., 15.,  0., 24., 17.,  8.]),\n",
       " array([0. , 0.7, 1.4, 2.1, 2.8, 3.5, 4.2, 4.9, 5.6, 6.3, 7. ]),\n",
       " <BarContainer object of 10 artists>)"
      ]
     },
     "execution_count": 44,
     "metadata": {},
     "output_type": "execute_result"
    },
    {
     "data": {
      "image/png": "[encoded data removed]",
      "text/plain": [
       "<Figure size 2000x1500 with 6 Axes>"
      ]
     },
     "metadata": {},
     "output_type": "display_data"
    }
   ],
   "source": [
    "import matplotlib.pyplot as plt\n",
    "\n",
    "def plot_data(engagement_by_account, interested_variable):\n",
    "    total_something = {}\n",
    "    for account_key, engagement_for_student in engagement_by_account.items():\n",
    "        total = 0\n",
    "        for engagement_record in engagement_for_student:\n",
    "            total += engagement_record[interested_variable]\n",
    "        total_something[account_key] = total\n",
    "    total_something = list(total_something.values())\n",
    "    return plt.hist(total_something) \n",
    "\n",
    "fig, axs = plt.subplots(ncols=2, nrows=3, figsize=(20, 15))\n",
    "plt.subplot(3, 2, 1)\n",
    "plot_data(dict_converter(passing_project), 'total_minutes_visited')\n",
    "plt.subplot(3, 2, 2)\n",
    "plot_data(dict_converter(non_pass_project), 'total_minutes_visited')\n",
    "plt.subplot(3, 2, 3)\n",
    "plot_data(dict_converter(passing_project), 'lessons_completed')\n",
    "plt.subplot(3, 2, 4)\n",
    "plot_data(dict_converter(non_pass_project), 'lessons_completed')\n",
    "plt.subplot(3, 2, 5)\n",
    "plot_data(dict_converter(passing_project), 'has_visited')\n",
    "plt.subplot(3, 2, 6)\n",
    "plot_data(dict_converter(non_pass_project), 'has_visited')"
   ]
  },
  {
   "cell_type": "markdown",
   "metadata": {},
   "source": [
    "Visualizing the metrics on histograms, it's clear to see that the first and second metrics shows simmilar behaviour in both groups. \n",
    "\n",
    "Notice, the left side represents the pass and the right the non pass group.\n",
    "\n",
    "In the first grade, we can notice that a few number of students spends more time or complete the lessons, because the labels are much lower as the amount of time pass in the x axis. Although, the students who passed still spends more time.\n",
    "\n",
    "The second shows the same behaviour, the pass group contains means higher as the amount of time pass in the lessons completed variable.\n",
    "\n",
    "The last one differs of both, because while in non pass groups the buckets of histogram goes down as the amount of time, the pass group usually visited the classrooms during 7 days."
   ]
  },
  {
   "cell_type": "markdown",
   "metadata": {},
   "source": [
    "**DRAWING CONCLUSIONS**\n",
    "\n",
    "The next step in the analysis is drawing some conclusions or make some predictables to help the business figure out their questions. \n",
    "\n",
    "After the exploring phase, it seems we have the conclusion **students who pass the project's course spend more minutes in the classroom during the first week**. Although, as a data analyst I need to check if the conclusion is real or is due to problems / trash with data.\n",
    "\n",
    "There are more factors that can be implying the correlation between visitin the classrooms and passing the projects during the first week. It would be a wrong recommendation to the client send marketing emails to all the students during the first week of assignment because students might have different levels of interests in the content, different background knowledge and might get bored of difficulties, and so on.\n",
    "\n",
    "I would ask for a A/B test between the groups to measure their responses to kinds of communication. The A/B test might involve **measuring the responses of different student groups to various types of communication and interventions during the first week of the course.**"
   ]
  },
  {
   "cell_type": "markdown",
   "metadata": {},
   "source": [
    "**COMMUNICATION PHASE**\n",
    "\n",
    "Here I want to highlight the interesting findinds during this exploratory analysis that addres the recommendation of A/B test: groups of students and the time they spend during the first week in classroom / studying."
   ]
  },
  {
   "cell_type": "code",
   "execution_count": 45,
   "metadata": {},
   "outputs": [
    {
     "data": {
      "text/plain": [
       "Text(0, 0.5, 'Frequency')"
      ]
     },
     "execution_count": 45,
     "metadata": {},
     "output_type": "execute_result"
    },
    {
     "data": {
      "image/png": "[encoded data removed]",
      "text/plain": [
       "<Figure size 1500x700 with 2 Axes>"
      ]
     },
     "metadata": {},
     "output_type": "display_data"
    }
   ],
   "source": [
    "sns.set()\n",
    "fig, axs = plt.subplots(ncols=2, nrows=1, figsize=(15, 7))\n",
    "plt.subplot(1, 2, 1)\n",
    "plot_data(dict_converter(passing_project), 'total_minutes_visited')\n",
    "plt.title('Passing')\n",
    "plt.xlabel('Total Minutes Visited')\n",
    "plt.ylabel('Frequency')\n",
    "\n",
    "plt.subplot(1, 2, 2)\n",
    "plot_data(dict_converter(non_pass_project), 'total_minutes_visited')\n",
    "plt.title('Non-Passing')\n",
    "plt.xlabel('Total Minutes Visited')\n",
    "plt.ylabel('Frequency')"
   ]
  },
  {
   "cell_type": "code",
   "execution_count": 46,
   "metadata": {},
   "outputs": [
    {
     "data": {
      "text/plain": [
       "Text(0, 0.5, 'Frequency')"
      ]
     },
     "execution_count": 46,
     "metadata": {},
     "output_type": "execute_result"
    },
    {
     "data": {
      "image/png": "[encoded data removed]",
      "text/plain": [
       "<Figure size 1500x700 with 2 Axes>"
      ]
     },
     "metadata": {},
     "output_type": "display_data"
    }
   ],
   "source": [
    "sns.set()\n",
    "fig, axs = plt.subplots(ncols=2, nrows=1, figsize=(15, 7))\n",
    "plt.subplot(1, 2, 1)\n",
    "plot_data(dict_converter(passing_project), 'has_visited')\n",
    "plt.title('Passing')\n",
    "plt.xlabel('Days visiting the Mooc during the first week')\n",
    "plt.ylabel('Frequency')\n",
    "\n",
    "plt.subplot(1, 2, 2)\n",
    "plot_data(dict_converter(non_pass_project), 'has_visited')\n",
    "plt.title('Non-Passing')\n",
    "plt.xlabel('Days visiting the Mooc during the first week')\n",
    "plt.ylabel('Frequency')"
   ]
  }
 ],
 "metadata": {
  "kernelspec": {
   "display_name": "Python 3",
   "language": "python",
   "name": "python3"
  },
  "language_info": {
   "codemirror_mode": {
    "name": "ipython",
    "version": 3
   },
   "file_extension": ".py",
   "mimetype": "text/x-python",
   "name": "python",
   "nbconvert_exporter": "python",
   "pygments_lexer": "ipython3",
   "version": "3.11.4"
  },
  "orig_nbformat": 4
 },
 "nbformat": 4,
 "nbformat_minor": 2
}
